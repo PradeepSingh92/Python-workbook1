{
 "cells": [
  {
   "cell_type": "code",
   "execution_count": null,
   "metadata": {},
   "outputs": [],
   "source": [
    "Introduction To Python (Basics)\n",
    "Python\n",
    "Python is a\n",
    "general purpose programming language\n",
    "interpreted, not compiled\n",
    "both dynamically typed and strongly typed\n",
    "supports multiple programming paradigms: object oriented, functional\n",
    "comes in 2 main versions in use today: 2.7 and 3.x\n",
    "Python's Interactive Console : The Interpreter\n",
    "The Python interpreter is a console that allows interactive development\n",
    "We are currently using the Jupyter notebook, which uses an advanced Python interpreter called IPython\n",
    "This gives us much more power and flexibility\n"
   ]
  },
  {
   "cell_type": "code",
   "execution_count": 4,
   "metadata": {},
   "outputs": [
    {
     "name": "stdout",
     "output_type": "stream",
     "text": [
      "Hellow world\n"
     ]
    }
   ],
   "source": [
    "print(\"Hello Data Science World!\")\n",
    "print(\"Hellow world\")"
   ]
  },
  {
   "cell_type": "code",
   "execution_count": null,
   "metadata": {},
   "outputs": [],
   "source": [
    "CHAPTER 1 - Python Basics\n",
    "\n",
    "Strings\n",
    "Creating a String, variable assignments\n",
    "String Indexing & Slicing\n",
    "String Concatenation & Repetition\n",
    "Basic Built-in String Methods\n",
    "Numbers\n",
    "Types of Numbers\n",
    "Basic Arithmetic\n",
    "\n",
    "CHAPTER 2 - Data Types & Data Structures\n",
    "\n",
    "Lists\n",
    "Dictionaries\n",
    "Sets & Booleans\n",
    "\n",
    "CHAPTER 3 - Python Programming Constructs\n",
    "\n",
    "Loops & Iterative Statements\n",
    "if,elif,else statements\n",
    "for loops, while loops\n",
    "Comprehensions\n",
    "Exception Handling\n",
    "Modules, Packages,\n",
    "File I/O operations"
   ]
  },
  {
   "cell_type": "code",
   "execution_count": 5,
   "metadata": {},
   "outputs": [
    {
     "ename": "SyntaxError",
     "evalue": "illegal target for annotation (1664929364.py, line 1)",
     "output_type": "error",
     "traceback": [
      "\u001b[0;36m  Input \u001b[0;32mIn [5]\u001b[0;36m\u001b[0m\n\u001b[0;31m    CHAPTER - 1 : Python Basics\u001b[0m\n\u001b[0m    ^\u001b[0m\n\u001b[0;31mSyntaxError\u001b[0m\u001b[0;31m:\u001b[0m illegal target for annotation\n"
     ]
    }
   ],
   "source": [
    "CHAPTER - 1 : Python Basics\n",
    "Let's understand\n",
    "\n",
    "Basic data types\n",
    "Variables and Scoping\n",
    "Modules, Packages and the import statement\n",
    "Operators\n",
    "\n",
    "Strings\n",
    "Strings are used in Python to record text information, such as name. Strings in Python are actually a sequence, which basically means Python keeps track of every element in the string as a sequence. For example, Python understands the string \"Python' to be a sequence of letters in a specific order. This means we will be able to use indexing to grab particular letters (like the first letter, or the last letter).\n",
    "\n",
    "Concept-Alert\n",
    "This idea of a sequence is an important one in Python and we will touch upon it later on in the future.\n",
    "\n",
    "In this lecture we'll learn about the following:\n",
    "\n",
    "1.) Creating Strings\n",
    "2.) Printing Strings\n",
    "3.) String Indexing and Slicing\n",
    "4.) String Properties\n",
    "5.) String Methods\n",
    "6.) Print Formatting\n"
   ]
  },
  {
   "cell_type": "code",
   "execution_count": 6,
   "metadata": {},
   "outputs": [
    {
     "name": "stdout",
     "output_type": "stream",
     "text": [
      "hello\n",
      "\n",
      "This is also a string\n"
     ]
    }
   ],
   "source": [
    "# Creating a String\n",
    "# To create a string in Python you need to use either single quotes or double quotes. For example:\n",
    "# Single word\n",
    "print('hello')\n",
    "\n",
    "print() # Used to have a line space between two sentences. Try deleting this line & seeing the difference.\n",
    "\n",
    "# Entire phrase \n",
    "print('This is also a string')"
   ]
  },
  {
   "cell_type": "code",
   "execution_count": 8,
   "metadata": {},
   "outputs": [
    {
     "name": "stdout",
     "output_type": "stream",
     "text": [
      "Pradeep singh\n"
     ]
    }
   ],
   "source": [
    "#print your name here\n",
    "print(\"Pradeep singh\")"
   ]
  },
  {
   "cell_type": "code",
   "execution_count": null,
   "metadata": {},
   "outputs": [],
   "source": [
    "Variables : Store your Value in me!\n",
    "\n",
    "In the code below we begin to explore how we can use a variable to which a string can be assigned. \n",
    "This can be extremely useful in many cases, where you can call the variable instead of typing the string everytime. \n",
    "This not only makes our code clean but it also makes it less redundant. Example syntax to assign a value or expression to a variable,\n",
    "\n",
    "variable_name = value or expression\n",
    "\n",
    "Concept-Alert\n",
    "Now let's get coding!!. With the below block of code showing how to assign a string to variable.\n",
    "\n",
    "String Indexing\n",
    "We know strings are a sequence, which means Python can use indexes to call parts of the sequence. Let's learn how this works.\n",
    "\n",
    "Concept-Alert\n",
    "In Python, we use brackets [] after an object to call its index. We should also note that indexing starts at 0 for Python.\n",
    "Let's create a new object called s and the walk through a few examples of indexing."
   ]
  },
  {
   "cell_type": "code",
   "execution_count": 17,
   "metadata": {},
   "outputs": [
    {
     "name": "stdout",
     "output_type": "stream",
     "text": [
      "llo World\n"
     ]
    }
   ],
   "source": [
    "# Assign s as a string\n",
    "s = 'Hello World'\n",
    "a= 'Hello Python'\n",
    "#print(s,a)\n",
    "\n",
    "print(s[2:])"
   ]
  },
  {
   "cell_type": "code",
   "execution_count": 18,
   "metadata": {},
   "outputs": [
    {
     "name": "stdout",
     "output_type": "stream",
     "text": [
      "Hello World\n",
      "\n",
      "H\n",
      "\n",
      "e\n"
     ]
    }
   ],
   "source": [
    "# Print the object\n",
    "print(s) \n",
    "\n",
    "print()  \n",
    "\n",
    "# Show first element (in this case a letter)\n",
    "print(s[0])\n",
    "\n",
    "print()\n",
    "\n",
    "# Show the second element (also a letter)\n",
    "print(s[1])"
   ]
  },
  {
   "cell_type": "code",
   "execution_count": 25,
   "metadata": {},
   "outputs": [
    {
     "name": "stdout",
     "output_type": "stream",
     "text": [
      "l\n",
      "d\n"
     ]
    }
   ],
   "source": [
    "#print 'l' character from the string\n",
    "#print 'd' character from the string\n",
    "print(s[2])\n",
    "print(s[-1])\n"
   ]
  },
  {
   "cell_type": "code",
   "execution_count": null,
   "metadata": {},
   "outputs": [],
   "source": [
    "String Concatenation and Repetition\n",
    "String Concatenation is a process to combine two strings. It is done using the '+' operator.\n",
    "\n",
    "Concept-Alert\n",
    "String Repetition is a process of repeating a same string multiple times \n"
   ]
  },
  {
   "cell_type": "code",
   "execution_count": 32,
   "metadata": {},
   "outputs": [
    {
     "name": "stdout",
     "output_type": "stream",
     "text": [
      "pradeep singh\n"
     ]
    }
   ],
   "source": [
    "# concatenation (addition)\n",
    "\n",
    "# s1 = 'Hello'\n",
    "# s2 = \"World\"\n",
    "# print(s1 + \" \" + s2)\n",
    "\n",
    "a= 'pradeep'\n",
    "b= 'singh'\n",
    "print(a +\" \" + b)"
   ]
  },
  {
   "cell_type": "code",
   "execution_count": 35,
   "metadata": {},
   "outputs": [
    {
     "name": "stdout",
     "output_type": "stream",
     "text": [
      "Hello_Hello_Hello_Hello_Hello_\n",
      "----------\n"
     ]
    }
   ],
   "source": [
    "# repetition (multiplication)\n",
    "\n",
    "print(\"Hello_\" * 5)\n",
    "print(\"-\" * 10)"
   ]
  },
  {
   "cell_type": "code",
   "execution_count": 42,
   "metadata": {},
   "outputs": [
    {
     "name": "stdout",
     "output_type": "stream",
     "text": [
      "Pradeep Pradeep Pradeep Pradeep Pradeep \n"
     ]
    }
   ],
   "source": [
    "print(\"Pradeep \" *5)\n"
   ]
  },
  {
   "cell_type": "code",
   "execution_count": 43,
   "metadata": {},
   "outputs": [
    {
     "name": "stdout",
     "output_type": "stream",
     "text": [
      "pradeep pradeep pradeep pradeep pradeep pradeep pradeep pradeep pradeep pradeep \n"
     ]
    }
   ],
   "source": [
    "print(\"pradeep \" * 10)\n"
   ]
  },
  {
   "cell_type": "code",
   "execution_count": 44,
   "metadata": {},
   "outputs": [
    {
     "name": "stdout",
     "output_type": "stream",
     "text": [
      "Data Data Data Data Data Data Data Data Data Data Data Data Data Data Data \n"
     ]
    }
   ],
   "source": [
    "print(\"Data \" *15)"
   ]
  },
  {
   "cell_type": "code",
   "execution_count": null,
   "metadata": {},
   "outputs": [],
   "source": [
    "String Slicing & Indexing\n",
    "String Indexing is used to to select the letter at a particular index/position.\n",
    "\n",
    "String Slicing is a process to select a subset of an entire string"
   ]
  },
  {
   "cell_type": "code",
   "execution_count": 45,
   "metadata": {},
   "outputs": [
    {
     "name": "stdout",
     "output_type": "stream",
     "text": [
      "a\n",
      "Worl\n",
      "World\n",
      "True\n"
     ]
    }
   ],
   "source": [
    "s = \"Namaste World\"\n",
    "\n",
    "# print sub strings\n",
    "print(s[1])     #This is indexing.\n",
    "print(s[8:12])  #This is known as slicing.\n",
    "print(s[-5:])\n",
    "\n",
    "# test substring membership\n",
    "print(\"World\" in s)"
   ]
  },
  {
   "cell_type": "code",
   "execution_count": 46,
   "metadata": {},
   "outputs": [
    {
     "data": {
      "text/plain": [
       "'ste W'"
      ]
     },
     "execution_count": 46,
     "metadata": {},
     "output_type": "execute_result"
    }
   ],
   "source": [
    "s[-9:-4]\n"
   ]
  },
  {
   "cell_type": "code",
   "execution_count": 48,
   "metadata": {},
   "outputs": [
    {
     "name": "stdout",
     "output_type": "stream",
     "text": [
      "World\n",
      "ste\n"
     ]
    }
   ],
   "source": [
    "#Print \"World\" from string\n",
    "#Print \"ste\" from the string\n",
    "print(s[-5:])\n",
    "print(s[4:7])"
   ]
  },
  {
   "cell_type": "code",
   "execution_count": null,
   "metadata": {},
   "outputs": [],
   "source": [
    "Basic Built-in String methods\n",
    "Objects in Python usually have built-in methods. These methods are functions inside the object (we will learn about these in much more depth later) that can perform actions or commands on the object itself.\n",
    "\n",
    "We call methods with a period and then the method name. Methods are in the form:\n",
    "\n",
    "object.method(parameters)\n",
    "\n",
    "Where parameters are extra arguments we can pass into the method. Don't worry if the details don't make 100% sense right now. Later on we will be creating our own objects and functions!\n",
    "\n",
    "Here are some examples of built-in methods in strings:\n"
   ]
  },
  {
   "cell_type": "code",
   "execution_count": 49,
   "metadata": {},
   "outputs": [
    {
     "name": "stdout",
     "output_type": "stream",
     "text": [
      "HELLO WORLD\n",
      "hello world\n"
     ]
    }
   ],
   "source": [
    "s = \"Hello World\"\n",
    "\n",
    "print(s.upper()) ## Convert all the element of the string to Upper case..!!\n",
    "print(s.lower()) ## Convert all the element of the string to Lower case..!!"
   ]
  },
  {
   "cell_type": "code",
   "execution_count": 50,
   "metadata": {},
   "outputs": [
    {
     "name": "stdout",
     "output_type": "stream",
     "text": [
      "<class 'str'>\n"
     ]
    }
   ],
   "source": [
    "print(type(s))"
   ]
  },
  {
   "cell_type": "code",
   "execution_count": null,
   "metadata": {},
   "outputs": [],
   "source": [
    "Print Formatting\n",
    "We can use the .format() method to add formatted objects to printed string statements.\n"
   ]
  },
  {
   "cell_type": "code",
   "execution_count": 51,
   "metadata": {},
   "outputs": [
    {
     "name": "stdout",
     "output_type": "stream",
     "text": [
      "My name is Pradeep, my age is 22, and it is True that I am married\n",
      "My name is Pradeep, my age is 22, and it is True that I am married\n"
     ]
    }
   ],
   "source": [
    "name = \"Pradeep\"\n",
    "age = 22\n",
    "married = True\n",
    "\n",
    "print(\"My name is %s, my age is %s, and it is %s that I am married\" % (name, age, married))\n",
    "\n",
    "print(\"My name is {}, my age is {}, and it is {} that I am married\".format(name, age, married))"
   ]
  },
  {
   "cell_type": "code",
   "execution_count": 55,
   "metadata": {},
   "outputs": [
    {
     "name": "stdout",
     "output_type": "stream",
     "text": [
      "My name is Pradeep, my age is 22\n",
      "my name is Pradeep,my age is 22, i am married True, \n"
     ]
    }
   ],
   "source": [
    "print(f\"My name is {name}, my age is {age}\")\n",
    "print(f\"my name is {name},my age is {age}, i am married {married}, \")"
   ]
  },
  {
   "cell_type": "code",
   "execution_count": 58,
   "metadata": {},
   "outputs": [
    {
     "name": "stdout",
     "output_type": "stream",
     "text": [
      "my name is pradeep, i am married True,and my age is 22, i am learning python\n"
     ]
    }
   ],
   "source": [
    "name = 'pradeep'\n",
    "age = '22'\n",
    "married = 'True'\n",
    "learning ='python'\n",
    "print(f'my name is {name}, i am married {married},and my age is {age}, i am learning {learning}')"
   ]
  },
  {
   "cell_type": "code",
   "execution_count": 60,
   "metadata": {},
   "outputs": [
    {
     "name": "stdout",
     "output_type": "stream",
     "text": [
      "my_string is Hello, \n"
     ]
    }
   ],
   "source": [
    "my_string =\"Hello\"\n",
    "print (f\"my_string is {my_string},\")"
   ]
  },
  {
   "cell_type": "code",
   "execution_count": 61,
   "metadata": {},
   "outputs": [
    {
     "name": "stdout",
     "output_type": "stream",
     "text": [
      "Hello\n"
     ]
    }
   ],
   "source": [
    "my_string.capitalize()\n",
    "print(my_string)"
   ]
  },
  {
   "cell_type": "code",
   "execution_count": 62,
   "metadata": {},
   "outputs": [
    {
     "name": "stdout",
     "output_type": "stream",
     "text": [
      "7\n"
     ]
    }
   ],
   "source": [
    "txt = \"Hello, welcome to my world.\"\n",
    "\n",
    "x = txt.find(\"welcome\")\n",
    "\n",
    "print(x)"
   ]
  },
  {
   "cell_type": "code",
   "execution_count": null,
   "metadata": {},
   "outputs": [],
   "source": [
    "Numbers\n",
    "\n",
    "Having worked with string we will turn our attention to numbers We'll learn about the following topics:\n",
    "1.) Types of Numbers in Python\n",
    "2.) Basic Arithmetic\n",
    "3.) Object Assignment in Python\n",
    "Types of numbers\n",
    "Python has various \"types\" of numbers (numeric literals). We'll mainly focus on integers and floating point numbers.\n",
    "\n",
    "Integers are just whole numbers, positive or negative. For example: 2 and -2 are examples of integers.\n",
    "\n",
    "Floating point numbers in Python are notable because they have a decimal point in them, or use an exponential (e) to define the number. For example 2.0 and -2.1 are examples of floating point numbers. 4E2 (4 times 10 to the power of 2) is also an example of a floating point number in Python.\n",
    "\n",
    "Throughout this course we will be mainly working with integers or simple float number types.\n",
    "\n",
    "Here is a table of the two main types we will spend most of our time working with some examples:\n",
    "\n",
    "Examples\tNumber \"Type\"\n",
    "1,2,-5,1000\tIntegers\n",
    "1.2,-0.5,2e2,3E2\tFloating-point numbers\n",
    "Now let's start with some basic arithmetic."
   ]
  },
  {
   "cell_type": "code",
   "execution_count": null,
   "metadata": {},
   "outputs": [],
   "source": [
    "Basic Arithmetic\n",
    "\n",
    "# Addition\n",
    "print(2+1)\n",
    "\n",
    "# Subtraction\n",
    "print(2-1)\n",
    "\n",
    "# Multiplication\n",
    "print(2*2)\n",
    "\n",
    "# Division\n",
    "print(3/2)"
   ]
  },
  {
   "cell_type": "code",
   "execution_count": 1,
   "metadata": {},
   "outputs": [
    {
     "data": {
      "text/plain": [
       "16"
      ]
     },
     "execution_count": 1,
     "metadata": {},
     "output_type": "execute_result"
    }
   ],
   "source": [
    "# Powers\n",
    "2**4\n"
   ]
  },
  {
   "cell_type": "code",
   "execution_count": 2,
   "metadata": {},
   "outputs": [
    {
     "data": {
      "text/plain": [
       "105"
      ]
     },
     "execution_count": 2,
     "metadata": {},
     "output_type": "execute_result"
    }
   ],
   "source": [
    "# Order of Operations followed in Python\n",
    "2 + 10 * 10 + 3"
   ]
  },
  {
   "cell_type": "code",
   "execution_count": 3,
   "metadata": {},
   "outputs": [
    {
     "data": {
      "text/plain": [
       "156"
      ]
     },
     "execution_count": 3,
     "metadata": {},
     "output_type": "execute_result"
    }
   ],
   "source": [
    "# Can use parenthesis to specify orders\n",
    "(2+10) * (10+3)"
   ]
  },
  {
   "cell_type": "code",
   "execution_count": 4,
   "metadata": {},
   "outputs": [
    {
     "data": {
      "text/plain": [
       "40"
      ]
     },
     "execution_count": 4,
     "metadata": {},
     "output_type": "execute_result"
    }
   ],
   "source": [
    "# multiply 15 by 2 and add 10 to it\n",
    "(15*2+10)"
   ]
  },
  {
   "cell_type": "code",
   "execution_count": null,
   "metadata": {},
   "outputs": [],
   "source": [
    "Variable Assignments\n",
    "Now that we've seen how to use numbers in Python as a calculator let's see how we can assign names and create variables.\n",
    "\n",
    "We use a single equals sign to assign labels to variables. Let's see a few examples of how we can do this.\n",
    "\n",
    "The names you use when creating these labels need to follow a few rules:\n",
    "\n",
    "1. Names can not start with a number.\n",
    "2. There can be no spaces in the name, use _ instead.\n",
    "3. Can't use any of these symbols :'\",<>/?|\\()!@#$%^&*~-+\n",
    "\n",
    "\n",
    "Using variable names can be a very useful way to keep track of different variables in Python."
   ]
  },
  {
   "cell_type": "code",
   "execution_count": 5,
   "metadata": {},
   "outputs": [],
   "source": [
    "count = 5\n"
   ]
  },
  {
   "cell_type": "code",
   "execution_count": 6,
   "metadata": {},
   "outputs": [],
   "source": [
    "# Let's create an object called \"a\" and assign it the number 5\n",
    "a = 5"
   ]
  },
  {
   "cell_type": "code",
   "execution_count": 7,
   "metadata": {},
   "outputs": [
    {
     "data": {
      "text/plain": [
       "10"
      ]
     },
     "execution_count": 7,
     "metadata": {},
     "output_type": "execute_result"
    }
   ],
   "source": [
    "# Adding the objects\n",
    "a+a"
   ]
  },
  {
   "cell_type": "code",
   "execution_count": 8,
   "metadata": {},
   "outputs": [],
   "source": [
    "# Reassignment\n",
    "a = 10"
   ]
  },
  {
   "cell_type": "code",
   "execution_count": 9,
   "metadata": {},
   "outputs": [
    {
     "data": {
      "text/plain": [
       "10"
      ]
     },
     "execution_count": 9,
     "metadata": {},
     "output_type": "execute_result"
    }
   ],
   "source": [
    "a\n"
   ]
  },
  {
   "cell_type": "code",
   "execution_count": 10,
   "metadata": {},
   "outputs": [
    {
     "data": {
      "text/plain": [
       "20"
      ]
     },
     "execution_count": 10,
     "metadata": {},
     "output_type": "execute_result"
    }
   ],
   "source": [
    "# Check\n",
    "a+a"
   ]
  },
  {
   "cell_type": "code",
   "execution_count": 13,
   "metadata": {},
   "outputs": [
    {
     "name": "stdout",
     "output_type": "stream",
     "text": [
      "1 2.8 1j\n"
     ]
    }
   ],
   "source": [
    "x = 1    # int\n",
    "y = 2.8  # float\n",
    "z = 1j   # complex\n",
    "print(x,y,z)"
   ]
  },
  {
   "cell_type": "code",
   "execution_count": 18,
   "metadata": {},
   "outputs": [
    {
     "data": {
      "text/plain": [
       "complex"
      ]
     },
     "execution_count": 18,
     "metadata": {},
     "output_type": "execute_result"
    }
   ],
   "source": [
    "type(1j)"
   ]
  },
  {
   "cell_type": "code",
   "execution_count": 20,
   "metadata": {},
   "outputs": [
    {
     "name": "stdout",
     "output_type": "stream",
     "text": [
      "11\n"
     ]
    }
   ],
   "source": [
    "print (5+3*2)"
   ]
  },
  {
   "cell_type": "code",
   "execution_count": 21,
   "metadata": {},
   "outputs": [
    {
     "name": "stdout",
     "output_type": "stream",
     "text": [
      "5.0\n"
     ]
    }
   ],
   "source": [
    "my_num=10\n",
    "my_num/=2\n",
    "print(my_num)"
   ]
  },
  {
   "cell_type": "code",
   "execution_count": 22,
   "metadata": {},
   "outputs": [
    {
     "name": "stdout",
     "output_type": "stream",
     "text": [
      "4\n"
     ]
    }
   ],
   "source": [
    "print(round(3.5))"
   ]
  },
  {
   "cell_type": "code",
   "execution_count": 23,
   "metadata": {},
   "outputs": [
    {
     "name": "stdout",
     "output_type": "stream",
     "text": [
      "8\n"
     ]
    }
   ],
   "source": [
    "my_num=2\n",
    "print(my_num**3)"
   ]
  },
  {
   "cell_type": "code",
   "execution_count": null,
   "metadata": {},
   "outputs": [],
   "source": [
    "CHAPTER - 2 : Data Types & Data Structures\n",
    "\n",
    "Everything in Python is an \"object\", including integers/floats\n",
    "Most common and important types (classes)\n",
    "\"Single value\": None, int, float, bool, str, complex\n",
    "\"Multiple values\": list, tuple, set, dict\n",
    "Concept-Alert\n",
    "Single/Multiple isn't a real distinction, this is for explanation\n",
    "There are many others, but these are most frequently used\n",
    "Identifying Data Types"
   ]
  },
  {
   "cell_type": "code",
   "execution_count": 24,
   "metadata": {},
   "outputs": [
    {
     "name": "stdout",
     "output_type": "stream",
     "text": [
      "<class 'int'>\n",
      "<class 'float'>\n",
      "<class 'str'>\n",
      "<class 'bool'>\n"
     ]
    }
   ],
   "source": [
    "a = 42\n",
    "b = 32.30\n",
    "c = \"Hello\"\n",
    "d = True\n",
    "print(type(a))#gets type of a\n",
    "print(type(b))#gets type of b\n",
    "print(type(c))\n",
    "print(type(d))"
   ]
  },
  {
   "cell_type": "code",
   "execution_count": 25,
   "metadata": {},
   "outputs": [
    {
     "data": {
      "text/plain": [
       "True"
      ]
     },
     "execution_count": 25,
     "metadata": {},
     "output_type": "execute_result"
    }
   ],
   "source": [
    "10 == 10\n"
   ]
  },
  {
   "cell_type": "code",
   "execution_count": null,
   "metadata": {},
   "outputs": [],
   "source": [
    "Lists\n",
    "Lists can be thought of the most general version of a sequence in Python.\n",
    "\n",
    "In this section we will learn about:\n",
    "\n",
    "1.) Creating lists\n",
    "2.) Indexing and Slicing Lists\n",
    "3.) Basic List Methods\n",
    "4.) Nesting Lists\n",
    "5.) Introduction to List Comprehensions\n"
   ]
  },
  {
   "cell_type": "code",
   "execution_count": 1,
   "metadata": {},
   "outputs": [
    {
     "name": "stdout",
     "output_type": "stream",
     "text": [
      "['Python', 'Geek', 5, 4, 3, 2, 1]\n"
     ]
    }
   ],
   "source": [
    "# Reversing a list\n",
    "mylist = [1, 2, 3, 4, 5, 'Geek', 'Python']\n",
    "mylist.reverse()\n",
    "print(mylist)\n"
   ]
  },
  {
   "cell_type": "code",
   "execution_count": 11,
   "metadata": {},
   "outputs": [
    {
     "name": "stdout",
     "output_type": "stream",
     "text": [
      "[6, 5, 4, 3, 2, 1]\n"
     ]
    }
   ],
   "source": [
    "my_list = [1,2,3,4,5,6]\n",
    "my_list.reverse()\n",
    "print(my_list)"
   ]
  },
  {
   "cell_type": "code",
   "execution_count": 17,
   "metadata": {},
   "outputs": [],
   "source": [
    "# A simple Python function\n",
    "\n",
    "def fun():\n",
    "    print(\"Welcome to GFG\")\n",
    "\n"
   ]
  },
  {
   "cell_type": "code",
   "execution_count": 18,
   "metadata": {},
   "outputs": [
    {
     "name": "stdout",
     "output_type": "stream",
     "text": [
      "Welcome to GFG\n"
     ]
    }
   ],
   "source": [
    "fun()\n"
   ]
  },
  {
   "cell_type": "code",
   "execution_count": 21,
   "metadata": {},
   "outputs": [],
   "source": [
    "def greet():\n",
    "    print(\"welcome to homw land\")\n"
   ]
  },
  {
   "cell_type": "code",
   "execution_count": 22,
   "metadata": {},
   "outputs": [
    {
     "name": "stdout",
     "output_type": "stream",
     "text": [
      "welcome to homw land\n"
     ]
    }
   ],
   "source": [
    "   greet ()"
   ]
  },
  {
   "cell_type": "code",
   "execution_count": 23,
   "metadata": {},
   "outputs": [
    {
     "name": "stdout",
     "output_type": "stream",
     "text": [
      "even\n",
      "odd\n"
     ]
    }
   ],
   "source": [
    "# A simple Python function to check\n",
    "# whether x is even or odd\n",
    "def evenOdd(x):\n",
    "\tif (x % 2 == 0):\n",
    "\t\tprint(\"even\")\n",
    "\telse:\n",
    "\t\tprint(\"odd\")\n",
    "\n",
    "\n",
    "# Driver code to call the function\n",
    "evenOdd(2)\n",
    "evenOdd(3)\n"
   ]
  },
  {
   "cell_type": "code",
   "execution_count": 35,
   "metadata": {},
   "outputs": [
    {
     "name": "stdout",
     "output_type": "stream",
     "text": [
      "even\n",
      "odd\n"
     ]
    }
   ],
   "source": [
    "def evenOdd(x):\n",
    "    if (x % 2 ==0):\n",
    "        print (\"even\")\n",
    "    else:\n",
    "        print(\"odd\")\n",
    "\n",
    "\n",
    "\n",
    "# Driver code to call the function\n",
    "evenOdd(2)\n",
    "evenOdd(5)\n",
    "        \n"
   ]
  },
  {
   "cell_type": "code",
   "execution_count": 42,
   "metadata": {},
   "outputs": [
    {
     "name": "stdout",
     "output_type": "stream",
     "text": [
      "14\n"
     ]
    }
   ],
   "source": [
    "# Python program to find the largest\n",
    "# number among the three numbers\n",
    "\n",
    "def maximum(a, b, c):\n",
    "\n",
    "\tif (a >= b) and (a >= c):\n",
    "\t\tlargest = a\n",
    "\n",
    "\telif (b >= a) and (b >= c):\n",
    "\t\tlargest = b\n",
    "\telse:\n",
    "\t\tlargest = c\n",
    "\t\t\n",
    "\treturn largest\n",
    "\n",
    "\n",
    "# Driven code\n",
    "a = 10\n",
    "b = 14\n",
    "c = 12\n",
    "print(maximum(a, b, c))\n"
   ]
  },
  {
   "cell_type": "code",
   "execution_count": 45,
   "metadata": {},
   "outputs": [
    {
     "name": "stdout",
     "output_type": "stream",
     "text": [
      "60\n"
     ]
    }
   ],
   "source": [
    "x = int(input(\"What is your markes\"))\n",
    "y = int(input(\"what is your age\"))\n",
    "print(x + y)"
   ]
  },
  {
   "cell_type": "code",
   "execution_count": 74,
   "metadata": {},
   "outputs": [
    {
     "name": "stdout",
     "output_type": "stream",
     "text": [
      "Number of boys:  5\n",
      "Number of girls:  10\n"
     ]
    }
   ],
   "source": [
    "x, y = input(\"Enter two values: \").split()\n",
    "print(\"Number of boys: \", x)\n",
    "print(\"Number of girls: \", y)"
   ]
  },
  {
   "cell_type": "code",
   "execution_count": 75,
   "metadata": {},
   "outputs": [
    {
     "name": "stdout",
     "output_type": "stream",
     "text": [
      "number of boys:  5\n",
      "number of girls:  10\n",
      "number of transgender:  90\n"
     ]
    }
   ],
   "source": [
    "x,y,z = input(\"Enter three values: \").split()\n",
    "print (\"number of boys: \", x)\n",
    "print (\"number of girls: \", y)\n",
    "print (\"number of transgender: \", z)\n"
   ]
  },
  {
   "cell_type": "code",
   "execution_count": 76,
   "metadata": {},
   "outputs": [
    {
     "name": "stdout",
     "output_type": "stream",
     "text": [
      "number of boys  5\n",
      "number of girls  10\n",
      "number of transgender  20\n"
     ]
    }
   ],
   "source": [
    "x,y,z = input(\"Enter three values \").split()\n",
    "print (\"number of boys \", x)\n",
    "print (\"number of girls \", y)\n",
    "print (\"number of transgender \", z)"
   ]
  },
  {
   "cell_type": "code",
   "execution_count": 77,
   "metadata": {},
   "outputs": [
    {
     "name": "stdout",
     "output_type": "stream",
     "text": [
      "First number is 2 and second number is 2\n"
     ]
    }
   ],
   "source": [
    "a, b = input(\"Enter two values: \").split()\n",
    "print(\"First number is {} and second number is {}\".format(a, b))"
   ]
  },
  {
   "cell_type": "code",
   "execution_count": 78,
   "metadata": {},
   "outputs": [
    {
     "name": "stdout",
     "output_type": "stream",
     "text": [
      "first number is 2 and second number is 2\n"
     ]
    }
   ],
   "source": [
    "x,y = input(\"enter two numbers\").split()\n",
    "print(\"first number is {} and second number is {}\". format (a,b) )"
   ]
  },
  {
   "cell_type": "code",
   "execution_count": 81,
   "metadata": {},
   "outputs": [
    {
     "name": "stdout",
     "output_type": "stream",
     "text": [
      "Hello\n",
      "Welcome\n",
      "to\n",
      "GeeksforGeeks\n"
     ]
    }
   ],
   "source": [
    "def myFun(*argv):\n",
    "\tfor arg in argv:\n",
    "\t\tprint(arg)\n",
    "\n",
    "\n",
    "myFun('Hello', 'Welcome', 'to', 'GeeksforGeeks')\n"
   ]
  },
  {
   "cell_type": "code",
   "execution_count": 82,
   "metadata": {},
   "outputs": [
    {
     "name": "stdout",
     "output_type": "stream",
     "text": [
      "first == Geeks\n",
      "mid == for\n",
      "last == Geeks\n"
     ]
    }
   ],
   "source": [
    "def myFun(**kwargs):\n",
    "\tfor key, value in kwargs.items():\n",
    "\t\tprint(\"%s == %s\" % (key, value))\n",
    "\n",
    "\n",
    "# Driver code\n",
    "myFun(first='Geeks', mid='for', last='Geeks')\n"
   ]
  },
  {
   "cell_type": "code",
   "execution_count": 86,
   "metadata": {},
   "outputs": [
    {
     "name": "stdout",
     "output_type": "stream",
     "text": [
      "1\n",
      "2\n",
      "3\n"
     ]
    }
   ],
   "source": [
    "# A generator function that yields 1 for first time,\n",
    "# 2 second time and 3 third time\n",
    "def simpleGeneratorFun():\n",
    "\tyield 1\t\t\n",
    "\tyield 2\t\t\n",
    "\tyield 3\t\t\n",
    "\n",
    "# Driver code to check above generator function\n",
    "for value in simpleGeneratorFun():\n",
    "\tprint(value)\n"
   ]
  },
  {
   "cell_type": "code",
   "execution_count": 89,
   "metadata": {},
   "outputs": [],
   "source": [
    "def genrator():\n",
    "    yield 1\n",
    "    yield 2\n",
    "    yield 3\n",
    "    yield 4\n",
    "\n",
    "# Driver code to check above generator function\n",
    "    for value in genrator():\n",
    "        print (value)"
   ]
  },
  {
   "cell_type": "code",
   "execution_count": 94,
   "metadata": {},
   "outputs": [
    {
     "name": "stdout",
     "output_type": "stream",
     "text": [
      "4\n"
     ]
    }
   ],
   "source": [
    "def add(a,b):\n",
    "    return(a+b)\n",
    "print(add(2,2))"
   ]
  },
  {
   "cell_type": "code",
   "execution_count": 100,
   "metadata": {},
   "outputs": [
    {
     "name": "stdout",
     "output_type": "stream",
     "text": [
      "i is greater than 15\n",
      "i'm in else Block\n",
      "i'm not in if and not in else Block\n"
     ]
    }
   ],
   "source": [
    "# python program to illustrate If else statement\n",
    "#!/usr/bin/python\n",
    "\n",
    "i = 20\n",
    "if (i < 15):\n",
    "\tprint(\"i is smaller than 15\")\n",
    "\tprint(\"i'm in if Block\")\n",
    "else:\n",
    "\tprint(\"i is greater than 15\")\n",
    "\tprint(\"i'm in else Block\")\n",
    "print(\"i'm not in if and not in else Block\")\n"
   ]
  },
  {
   "cell_type": "code",
   "execution_count": 102,
   "metadata": {},
   "outputs": [
    {
     "name": "stdout",
     "output_type": "stream",
     "text": [
      "I am Not in if\n"
     ]
    }
   ],
   "source": [
    "# python program to illustrate If statement\n",
    "\n",
    "i = 10\n",
    "\n",
    "if (i > 15):\n",
    "\tprint(\"10 is less than 15\")\n",
    "print(\"I am Not in if\")\n"
   ]
  },
  {
   "cell_type": "code",
   "execution_count": 103,
   "metadata": {},
   "outputs": [
    {
     "name": "stdout",
     "output_type": "stream",
     "text": [
      "i is greater than 15\n",
      "i'm in else Block\n",
      "i'm not in if and not in else Block\n"
     ]
    }
   ],
   "source": [
    "# python program to illustrate If else statement\n",
    "#!/usr/bin/python\n",
    "\n",
    "i = 20\n",
    "if (i < 15):\n",
    "\tprint(\"i is smaller than 15\")\n",
    "\tprint(\"i'm in if Block\")\n",
    "else:\n",
    "\tprint(\"i is greater than 15\")\n",
    "\tprint(\"i'm in else Block\")\n",
    "print(\"i'm not in if and not in else Block\")\n"
   ]
  },
  {
   "cell_type": "code",
   "execution_count": 106,
   "metadata": {},
   "outputs": [
    {
     "name": "stdout",
     "output_type": "stream",
     "text": [
      "i is equal to 50\n",
      " i am in if block\n"
     ]
    }
   ],
   "source": [
    "i = 50\n",
    "if (i >= 50):\n",
    "    print(\"i is equal to 50\")\n",
    "    print(\" i am in if block\")\n",
    "\n",
    "else:\n",
    "    print(\"i is smaller then 15\")\n",
    "    print(\"i a not in else block\")\n",
    "\n"
   ]
  },
  {
   "cell_type": "code",
   "execution_count": 114,
   "metadata": {},
   "outputs": [
    {
     "ename": "IndentationError",
     "evalue": "unexpected indent (3324933487.py, line 6)",
     "output_type": "error",
     "traceback": [
      "\u001b[0;36m  Input \u001b[0;32mIn [114]\u001b[0;36m\u001b[0m\n\u001b[0;31m    if (i < 15):\u001b[0m\n\u001b[0m    ^\u001b[0m\n\u001b[0;31mIndentationError\u001b[0m\u001b[0;31m:\u001b[0m unexpected indent\n"
     ]
    }
   ],
   "source": [
    "# python program to illustrate nested If statement\n",
    "#!/usr/bin/python\n",
    "i = 10\n",
    "\t\n",
    "\t# First if statement\n",
    "\tif (i < 15):\n",
    "\t\tprint(\"i is smaller than 15\")\n",
    "\t\t\n",
    "\t# Nested - if statement\n",
    "\t# Will only be executed if statement above\n",
    "\t# it is true\n",
    "\tif (i < 12):\n",
    "\t\tprint(\"i is smaller than 12 too\")\n",
    "\n",
    "\t\tif (i >9):\n",
    "\t\t\tprint(\"i is greater then 9\")\n",
    "\n",
    "\telse:\n",
    "\t\tprint(\"i is greater than 15\")\n"
   ]
  },
  {
   "cell_type": "code",
   "execution_count": 112,
   "metadata": {},
   "outputs": [],
   "source": [
    "i = 10\n",
    "\n",
    "if (i == 18):\n",
    "\n",
    "    #First if statement\n",
    "\n",
    "    if (i <19):\n",
    "        print (\"i is smaller then 12\")\n",
    "\n",
    "        #nested - if statement\n",
    "        #will only be executed if statement abour is true.\n",
    "\n",
    "        if (i < 1):\n",
    "            print (\"i is smaller than 11 too\")\n",
    "\n",
    "        else:\n",
    "            print(\"i is greater then 12\")"
   ]
  },
  {
   "cell_type": "code",
   "execution_count": 133,
   "metadata": {},
   "outputs": [
    {
     "name": "stdout",
     "output_type": "stream",
     "text": [
      "i is 20\n"
     ]
    }
   ],
   "source": [
    "# Python program to illustrate if-elif-else ladder\n",
    "#!/usr/bin/python\n",
    "\n",
    "# i = 20\n",
    "# if (i == 10):\n",
    "# \tprint(\"i is 10\")\n",
    "# elif (i == 15):\n",
    "# \tprint(\"i is 15\")\n",
    "# elif (i == 20):\n",
    "# \tprint(\"i is 20\")\n",
    "# else:\n",
    "# \tprint(\"i is not present\")\n",
    "\n",
    "\n",
    "# i = 20\n",
    "# if (i == 10):\n",
    "#     print(\"i is 10\")\n",
    "# elif(i == 15):\n",
    "#     print(\"i is 15\")\n",
    "# elif(i == 20):\n",
    "#     print(\"i is 20\")\n",
    "\n",
    "# else:\n",
    "#     print(\"i is not present\")"
   ]
  },
  {
   "cell_type": "code",
   "execution_count": 142,
   "metadata": {},
   "outputs": [
    {
     "name": "stdout",
     "output_type": "stream",
     "text": [
      "i is 20\n"
     ]
    }
   ],
   "source": [
    "# Python program to illustrate if-elif-else ladder\n",
    "#!/usr/bin/python\n",
    "\n",
    "i = 20\n",
    "\n",
    "if (i == 10):\n",
    "      print(\"i is 10\")\n",
    "elif(1== 15):\n",
    "      print(\"i is 15\")\n",
    "elif(i == 20):\n",
    "      print(\"i is 20\")\n",
    "\n",
    "      \n",
    "else:\n",
    "      print(\"i is not present\")"
   ]
  },
  {
   "cell_type": "code",
   "execution_count": 148,
   "metadata": {},
   "outputs": [
    {
     "name": "stdout",
     "output_type": "stream",
     "text": [
      "apple\n",
      "mango\n",
      "asasa\n"
     ]
    }
   ],
   "source": [
    "# Python program to illustrate\n",
    "# Iterating over a list\n",
    "# l = [\"geeks\", \"for\", \"geeks\"]\n",
    "\n",
    "# for i in l:\n",
    "# \tprint(i)\n",
    "\n",
    "\n",
    "# l1 = [\"apple\", \"mango\", \"asasa\"]\n",
    "\n",
    "# for items in l1:\n",
    "#     print(items)"
   ]
  },
  {
   "cell_type": "code",
   "execution_count": 149,
   "metadata": {},
   "outputs": [
    {
     "name": "stdout",
     "output_type": "stream",
     "text": [
      "1 2 3 4 5 7 8 9 10 "
     ]
    }
   ],
   "source": [
    "# loop from 1 to 10\n",
    "for i in range(1, 11):\n",
    "\n",
    "\t# If i is equals to 6,\n",
    "\t# continue to next iteration\n",
    "\t# without printing\n",
    "\tif i == 6:\n",
    "\t\tcontinue\n",
    "\telse:\n",
    "\t\t# otherwise print the value\n",
    "\t\t# of i\n",
    "\t\tprint(i, end=\" \")\n"
   ]
  },
  {
   "cell_type": "code",
   "execution_count": 150,
   "metadata": {},
   "outputs": [
    {
     "name": "stdout",
     "output_type": "stream",
     "text": [
      "[0, 1, 4]\n"
     ]
    }
   ],
   "source": [
    "my_list = [x**2 for x in range(3)]\n",
    "print(my_list)"
   ]
  },
  {
   "cell_type": "code",
   "execution_count": 154,
   "metadata": {},
   "outputs": [
    {
     "name": "stdout",
     "output_type": "stream",
     "text": [
      "[0, 1, 2, 3, 4]\n"
     ]
    }
   ],
   "source": [
    "# try:\n",
    "#     x = 10/0\n",
    "# except:\n",
    "#     print(\"An error occured\")\n",
    "\n",
    "my_list = [x for x in range (5)]\n",
    "print(my_list)"
   ]
  },
  {
   "cell_type": "code",
   "execution_count": 155,
   "metadata": {},
   "outputs": [
    {
     "name": "stdout",
     "output_type": "stream",
     "text": [
      "5\n"
     ]
    }
   ],
   "source": [
    "def add_numbers(x, y=2):\n",
    "    return x + y\n",
    "print(add_numbers(3) )"
   ]
  }
 ],
 "metadata": {
  "kernelspec": {
   "display_name": "base",
   "language": "python",
   "name": "python3"
  },
  "language_info": {
   "codemirror_mode": {
    "name": "ipython",
    "version": 3
   },
   "file_extension": ".py",
   "mimetype": "text/x-python",
   "name": "python",
   "nbconvert_exporter": "python",
   "pygments_lexer": "ipython3",
   "version": "3.9.12"
  },
  "orig_nbformat": 4
 },
 "nbformat": 4,
 "nbformat_minor": 2
}
